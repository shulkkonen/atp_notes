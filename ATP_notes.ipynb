{
 "cells": [
  {
   "cell_type": "markdown",
   "id": "5381f161",
   "metadata": {},
   "source": [
    "Linux Cheatsheet"
   ]
  },
  {
   "cell_type": "code",
   "execution_count": null,
   "id": "45a554d3",
   "metadata": {},
   "outputs": [],
   "source": [
    "ssh vm0964.kaj.pouta.csc.fi -l name"
   ]
  },
  {
   "cell_type": "code",
   "execution_count": null,
   "id": "81dcedc9",
   "metadata": {},
   "outputs": [],
   "source": [
    "# uniikit sanat tiedostossa, jossa yksi sana per rivi\n",
    "cat data-per-line.txt | sort | uniq | wc -l\n",
    "\n",
    "# Lisää tiedostoon 10 harvinaisinta sanaa\n",
    "cat data-per-line.txt | sort | uniq -c | sort -rn | tail -10 > frek.txt\n",
    "\n",
    "# Monella rivillä on sana \"oletko\"\n",
    "cat sample.txt | sort | uniq -c | sort -rn | egrep -i \"oletko\" | wc -l"
   ]
  },
  {
   "cell_type": "code",
   "execution_count": null,
   "id": "ddee81ac",
   "metadata": {},
   "outputs": [],
   "source": [
    "# get frequency count of words in a textfile\n",
    "! cat en_one_per_line.txt | sort | uniq -c |sort -nr | head -10 \n",
    "# sort -rn sorts by numbers and r reverses the order --> most frequent first"
   ]
  },
  {
   "cell_type": "code",
   "execution_count": null,
   "id": "bdd3cdc5",
   "metadata": {},
   "outputs": [],
   "source": [
    "# find words which are only used once\n",
    "! cat en_one_per_line.txt | sort | uniq -c |sort -nr | egrep \" 1 \" |wc -l\n",
    "\n",
    "# filter words only used once and save to a file\n",
    "! cat en_one_per_line.txt | sort | uniq -c |sort -nr | egrep -v \" 1 \" > noduplicates.txt"
   ]
  },
  {
   "cell_type": "code",
   "execution_count": null,
   "id": "6bddb459",
   "metadata": {},
   "outputs": [],
   "source": [
    "# Normalization\n",
    "# Steps: 1) normalize all to lowercase \n",
    "#2) delete punctuation and numbers (you can do this with separate commands for now) \n",
    "#3) split tokens to own lines (replace whitespace with a line break) \n",
    "#4) do a frequency list of the cleaned tokens (lines)\n",
    "! cat xmascarol.txt | tr '[:upper:]' '[:lower:]'  | tr '[0-9]' ' ' | tr '[:punct:]' ' ' \n",
    "| tr ' ' '\\n' | sort | uniq -c | sort -rn | head -30\n"
   ]
  },
  {
   "cell_type": "code",
   "execution_count": null,
   "id": "8d9c42c9",
   "metadata": {},
   "outputs": [],
   "source": [
    "# Regex\n",
    "# 15 most frequent tweets in column 3, starting with a #\n",
    "! cat tweets_en_nort.csv | cut -f 3 | tr ' ' '\\n' | tr '[[:upper:]]' '[[:lower:]]' \n",
    "| egrep \"^#\" |  sort | uniq -c | sort -rn | head -15"
   ]
  },
  {
   "cell_type": "code",
   "execution_count": null,
   "id": "44065d52",
   "metadata": {},
   "outputs": [],
   "source": [
    "# copy all files from mavela to mynewfolder\n",
    "#  cp /home/name/nltk_data/corpora/brown/*  mynewfolder"
   ]
  },
  {
   "cell_type": "code",
   "execution_count": null,
   "id": "b14e748c",
   "metadata": {},
   "outputs": [],
   "source": [
    "# CONNLU\n",
    "\n",
    "# The columns in the CoNLL format were\n",
    "ID WORD LEMMA POS POS MORFOLOGY HEAD DEPREL MISC MISC\n",
    "\n",
    "# use zcat to work with packed connlu files\n",
    "zcat suomi24.conllu.gz | wc -l\n",
    "\n",
    "# removing metadata\n",
    "zcat suomi24.conllu.gz | egrep \"^[0-9]\" | egrep -v \"PUNCT\" | wc -l\n",
    "\n",
    "# MAke a frequency list of the most frequent lemmas in the data. Make sure all are in lower case and exclude punctuation.\n",
    " cat en_gum-ud-train.conllu | egrep \"^[0-9]\" | egrep -v \"PUNCT\" | cut -f 3 \n",
    "    | tr '[[:upper:]]' '[[:lower:]]'  | sort | uniq -c | sort -rn | head -10"
   ]
  },
  {
   "cell_type": "code",
   "execution_count": null,
   "id": "6b6ed1c2",
   "metadata": {},
   "outputs": [],
   "source": [
    "# Scripts\n",
    "\n",
    "# add to beginning\n",
    "#!/bin/bash\n",
    "\n",
    "# create a script\n",
    "nano script.sh\n",
    "\n",
    "# They can be executed by ./script.sh\n",
    "\n",
    "# Important: you need to add excecuting permissions to your script.\n",
    "chmod a+x script.sh\n",
    "\n",
    "# Standard input / output ** cat input.txt | ./script.sh > output.txt\n",
    "\n",
    "# Arguments ./script.sh input.txt Arguments referred to with$1, $2, etc in the script\n",
    "\n"
   ]
  },
  {
   "cell_type": "code",
   "execution_count": null,
   "id": "622105f1",
   "metadata": {},
   "outputs": [],
   "source": [
    "# For loops\n",
    "\n",
    "# for loop that counts the wordcount of each file\n",
    "# Then add to the script a print of each of the file name \n",
    "for f in brown/* ; do echo $f ; cat $f | wc -w ; done > outputfile.txt\n",
    "\n",
    "# include a script in command\n",
    "for f in hakemisto/* ; do echo $f ; cat $f | ./skripti.sh >  $f-output ; done\n",
    "\n"
   ]
  }
 ],
 "metadata": {
  "kernelspec": {
   "display_name": "Python 3 (ipykernel)",
   "language": "python",
   "name": "python3"
  },
  "language_info": {
   "codemirror_mode": {
    "name": "ipython",
    "version": 3
   },
   "file_extension": ".py",
   "mimetype": "text/x-python",
   "name": "python",
   "nbconvert_exporter": "python",
   "pygments_lexer": "ipython3",
   "version": "3.9.5"
  }
 },
 "nbformat": 4,
 "nbformat_minor": 5
}
